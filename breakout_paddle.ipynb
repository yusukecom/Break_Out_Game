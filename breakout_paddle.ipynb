{
 "cells": [
  {
   "cell_type": "code",
   "execution_count": null,
   "metadata": {},
   "outputs": [],
   "source": [
    "#coding: utf-8\n",
    "import pygame\n",
    "from pygame.locals import *\n",
    "import math\n",
    "import sys\n",
    "import pygame.mixer\n",
    "SCREEN = Rect(0, 0, 400, 400)\n",
    "\n",
    "# バドルのクラス\n",
    "class Paddle(pygame.sprite.Sprite):\n",
    "    def __init__(self, filename):\n",
    "        pygame.sprite.Sprite.__init__(self, self.containers)\n",
    "        self.image = pygame.image.load(filename).convert()\n",
    "        self.rect = self.image.get_rect()\n",
    "        self.rect.bottom = SCREEN.bottom - 20          # パドルのy座標\n",
    "    def update(self):\n",
    "        self.rect.centerx = pygame.mouse.get_pos()[0]  # マウスのx座標をパドルのx座標に\n",
    "        self.rect.clamp_ip(SCREEN)                     # ゲーム画面内のみで移動\n",
    "\n",
    "def main():\n",
    "    pygame.init()\n",
    "    screen = pygame.display.set_mode(SCREEN.size)\n",
    "    group = pygame.sprite.RenderUpdates()   # 描画用のスプライトグループ\n",
    "    Paddle.containers = group\n",
    "    paddle = Paddle(\"paddle.png\")           # パドルの作成\n",
    "    clock = pygame.time.Clock()\n",
    "\n",
    "    while (1):\n",
    "        clock.tick(60)      # フレームレート(60fps)\n",
    "        screen.fill((0,20,0))\n",
    "        group.update()        # 全てのスプライトグループを更新\n",
    "        group.draw(screen)    # 全てのスプライトグループを描画\n",
    "        pygame.display.update()\n",
    "        for event in pygame.event.get():\n",
    "            if event.type == QUIT:\n",
    "                pygame.quit()\n",
    "                sys.exit()\n",
    "            if event.type == KEYDOWN and event.key == K_ESCAPE:\n",
    "                pygame.quit()\n",
    "                sys.exit()\n",
    "\n",
    "if __name__ == \"__main__\":\n",
    "    main()"
   ]
  },
  {
   "cell_type": "code",
   "execution_count": null,
   "metadata": {
    "collapsed": true
   },
   "outputs": [],
   "source": []
  }
 ],
 "metadata": {
  "kernelspec": {
   "display_name": "Python 3",
   "language": "python",
   "name": "python3"
  },
  "language_info": {
   "codemirror_mode": {
    "name": "ipython",
    "version": 3
   },
   "file_extension": ".py",
   "mimetype": "text/x-python",
   "name": "python",
   "nbconvert_exporter": "python",
   "pygments_lexer": "ipython3",
   "version": "3.6.0"
  }
 },
 "nbformat": 4,
 "nbformat_minor": 2
}
